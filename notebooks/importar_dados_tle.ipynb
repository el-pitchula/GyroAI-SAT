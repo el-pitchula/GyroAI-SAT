{
 "cells": [
  {
   "cell_type": "code",
   "execution_count": 1,
   "id": "77bc6300",
   "metadata": {},
   "outputs": [
    {
     "ename": "ModuleNotFoundError",
     "evalue": "No module named 'database'",
     "output_type": "error",
     "traceback": [
      "\u001b[31m---------------------------------------------------------------------------\u001b[39m",
      "\u001b[31mModuleNotFoundError\u001b[39m                       Traceback (most recent call last)",
      "\u001b[36mCell\u001b[39m\u001b[36m \u001b[39m\u001b[32mIn[1]\u001b[39m\u001b[32m, line 6\u001b[39m\n\u001b[32m      3\u001b[39m \u001b[38;5;28;01mimport\u001b[39;00m\u001b[38;5;250m \u001b[39m\u001b[34;01mnumpy\u001b[39;00m\u001b[38;5;250m \u001b[39m\u001b[38;5;28;01mas\u001b[39;00m\u001b[38;5;250m \u001b[39m\u001b[34;01mnp\u001b[39;00m\n\u001b[32m      4\u001b[39m \u001b[38;5;28;01mfrom\u001b[39;00m\u001b[38;5;250m \u001b[39m\u001b[34;01mscipy\u001b[39;00m\u001b[34;01m.\u001b[39;00m\u001b[34;01mspatial\u001b[39;00m\u001b[34;01m.\u001b[39;00m\u001b[34;01mtransform\u001b[39;00m\u001b[38;5;250m \u001b[39m\u001b[38;5;28;01mimport\u001b[39;00m Rotation \u001b[38;5;28;01mas\u001b[39;00m R\n\u001b[32m----> \u001b[39m\u001b[32m6\u001b[39m \u001b[38;5;28;01mfrom\u001b[39;00m\u001b[38;5;250m \u001b[39m\u001b[34;01mdatabase\u001b[39;00m\u001b[34;01m.\u001b[39;00m\u001b[34;01mdb_handler\u001b[39;00m\u001b[38;5;250m \u001b[39m\u001b[38;5;28;01mimport\u001b[39;00m create_db, iniciar_simulacao, salvar_dado_orbital\n\u001b[32m      8\u001b[39m \u001b[38;5;66;03m# Passo 1 - Inicializar o banco\u001b[39;00m\n\u001b[32m      9\u001b[39m create_db()\n",
      "\u001b[31mModuleNotFoundError\u001b[39m: No module named 'database'"
     ]
    }
   ],
   "source": [
    "from sgp4.api import Satrec\n",
    "from datetime import datetime, timedelta\n",
    "import numpy as np\n",
    "from scipy.spatial.transform import Rotation as R\n",
    "\n",
    "from database.db_handler import create_db, iniciar_simulacao, salvar_dado_orbital\n",
    "\n",
    "# Passo 1 - Inicializar o banco\n",
    "create_db()\n",
    "sim_id = iniciar_simulacao(\"Importação via TLE ISS\")\n",
    "\n",
    "# TLE da ISS (pode trocar por outro satélite depois)\n",
    "line1 = '1 25544U 98067A   24106.45347222  .00012190  00000+0  21377-3 0  9992'\n",
    "line2 = '2 25544  51.6414  52.8843 0003046  96.6780  42.0736 15.51762384294959'\n",
    "sat = Satrec.twoline2rv(line1, line2)\n",
    "\n",
    "def datetime_to_julian_date(dt):\n",
    "    year, month, day = dt.year, dt.month, dt.day\n",
    "    hour, minute = dt.hour, dt.minute\n",
    "    second = dt.second + dt.microsecond / 1e6\n",
    "    jd = 367 * year - int((7 * (year + int((month + 9) / 12))) / 4) \\\n",
    "         + int((275 * month) / 9) + day + 1721013.5 \\\n",
    "         + (hour + minute / 60 + second / 3600) / 24\n",
    "    fr = (hour + minute / 60 + second / 3600) / 24 % 1\n",
    "    return jd, fr\n",
    "\n",
    "# Parâmetros da simulação\n",
    "base_time = datetime.utcnow()\n",
    "interval = 30  # segundos\n",
    "samples = 200\n",
    "\n",
    "for i in range(samples):\n",
    "    dt = base_time + timedelta(seconds=i * interval)\n",
    "    jd, fr = datetime_to_julian_date(dt)\n",
    "    error_code, position, velocity = sat.sgp4(jd, fr)\n",
    "\n",
    "    if error_code != 0:\n",
    "        print(f\"Erro na propagação: {dt} - Código {error_code}\")\n",
    "        continue\n",
    "\n",
    "    r = np.array(position)\n",
    "    v = np.array(velocity)\n",
    "\n",
    "    # Base para orientação\n",
    "    z = -r / np.linalg.norm(r)\n",
    "    y = np.cross(z, v)\n",
    "    y /= np.linalg.norm(y)\n",
    "    x = np.cross(y, z)\n",
    "    rot_matrix = np.vstack([x, y, z]).T\n",
    "    rotation = R.from_matrix(rot_matrix)\n",
    "\n",
    "    # Quaternions e Euler\n",
    "    quat = rotation.as_quat()  # w, x, y, z\n",
    "    euler = rotation.as_euler('xyz', degrees=True)\n",
    "\n",
    "    salvar_dado_orbital(\n",
    "        sim_id,\n",
    "        i * interval,\n",
    "        r[0], r[1], r[2],\n",
    "        v[0], v[1], v[2],\n",
    "        euler[0], euler[1], euler[2],\n",
    "        tipo=\"real\"  # ou \"simulado\", \"hibrido\"\n",
    "    )\n",
    "\n",
    "print(\"✅ Dados salvos no banco gyroai.db!\")"
   ]
  }
 ],
 "metadata": {
  "kernelspec": {
   "display_name": "Python 3",
   "language": "python",
   "name": "python3"
  },
  "language_info": {
   "codemirror_mode": {
    "name": "ipython",
    "version": 3
   },
   "file_extension": ".py",
   "mimetype": "text/x-python",
   "name": "python",
   "nbconvert_exporter": "python",
   "pygments_lexer": "ipython3",
   "version": "3.13.3"
  }
 },
 "nbformat": 4,
 "nbformat_minor": 5
}
