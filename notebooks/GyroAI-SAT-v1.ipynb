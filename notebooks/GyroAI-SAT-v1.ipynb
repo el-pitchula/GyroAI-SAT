{
 "cells": [
  {
   "cell_type": "markdown",
   "id": "948a9beb",
   "metadata": {},
   "source": [
    "# GyroAI-SAT (v1)\n",
    "\n",
    "Notebook simplificado para análise de orientação e Gimbal Lock usando dados TLE."
   ]
  },
  {
   "cell_type": "markdown",
   "id": "acb6e87d",
   "metadata": {},
   "source": [
    "# Pré-processamento\n",
    "\n",
    "Transformar os dados propagados em uma estrutura útil para IA."
   ]
  },
  {
   "cell_type": "code",
   "execution_count": 8,
   "id": "92591709",
   "metadata": {},
   "outputs": [
    {
     "ename": "NameError",
     "evalue": "name 'tempos' is not defined",
     "output_type": "error",
     "traceback": [
      "\u001b[31m---------------------------------------------------------------------------\u001b[39m",
      "\u001b[31mNameError\u001b[39m                                 Traceback (most recent call last)",
      "\u001b[36mCell\u001b[39m\u001b[36m \u001b[39m\u001b[32mIn[8]\u001b[39m\u001b[32m, line 5\u001b[39m\n\u001b[32m      1\u001b[39m \u001b[38;5;28;01mimport\u001b[39;00m\u001b[38;5;250m \u001b[39m\u001b[34;01mpandas\u001b[39;00m\u001b[38;5;250m \u001b[39m\u001b[38;5;28;01mas\u001b[39;00m\u001b[38;5;250m \u001b[39m\u001b[34;01mpd\u001b[39;00m\n\u001b[32m      3\u001b[39m \u001b[38;5;66;03m# Exemplo: dataframe de orientação (Euler ou quaternions)\u001b[39;00m\n\u001b[32m      4\u001b[39m df = pd.DataFrame({\n\u001b[32m----> \u001b[39m\u001b[32m5\u001b[39m     \u001b[33m'\u001b[39m\u001b[33mtempo\u001b[39m\u001b[33m'\u001b[39m: \u001b[43mtempos\u001b[49m,\n\u001b[32m      6\u001b[39m     \u001b[33m'\u001b[39m\u001b[33mq0\u001b[39m\u001b[33m'\u001b[39m: q0, \u001b[33m'\u001b[39m\u001b[33mq1\u001b[39m\u001b[33m'\u001b[39m: q1, \u001b[33m'\u001b[39m\u001b[33mq2\u001b[39m\u001b[33m'\u001b[39m: q2, \u001b[33m'\u001b[39m\u001b[33mq3\u001b[39m\u001b[33m'\u001b[39m: q3,\n\u001b[32m      7\u001b[39m     \u001b[33m'\u001b[39m\u001b[33mroll\u001b[39m\u001b[33m'\u001b[39m: roll, \u001b[33m'\u001b[39m\u001b[33mpitch\u001b[39m\u001b[33m'\u001b[39m: pitch, \u001b[33m'\u001b[39m\u001b[33myaw\u001b[39m\u001b[33m'\u001b[39m: yaw\n\u001b[32m      8\u001b[39m })\n\u001b[32m     10\u001b[39m \u001b[38;5;66;03m# Geração automática do rótulo (para treinar)\u001b[39;00m\n\u001b[32m     11\u001b[39m \u001b[38;5;28;01mdef\u001b[39;00m\u001b[38;5;250m \u001b[39m\u001b[34mrotular_gimbal_lock\u001b[39m(pitch, tolerancia=\u001b[32m2\u001b[39m):\n",
      "\u001b[31mNameError\u001b[39m: name 'tempos' is not defined"
     ]
    }
   ],
   "source": [
    "import pandas as pd\n",
    "\n",
    "# Exemplo: dataframe de orientação (Euler ou quaternions)\n",
    "df = pd.DataFrame({\n",
    "    'tempo': tempos,\n",
    "    'q0': q0, 'q1': q1, 'q2': q2, 'q3': q3,\n",
    "    'roll': roll, 'pitch': pitch, 'yaw': yaw\n",
    "})\n",
    "\n",
    "# Geração automática do rótulo (para treinar)\n",
    "def rotular_gimbal_lock(pitch, tolerancia=2):\n",
    "    if abs(pitch - 90) < tolerancia:\n",
    "        return 'gimbal_lock'\n",
    "    elif abs(pitch - 90) < tolerancia + 5:\n",
    "        return 'alerta'\n",
    "    else:\n",
    "        return 'ok'\n",
    "\n",
    "df['status'] = df['pitch'].apply(rotular_gimbal_lock)\n"
   ]
  },
  {
   "cell_type": "code",
   "execution_count": null,
   "id": "40af3709",
   "metadata": {},
   "outputs": [],
   "source": [
    "from sklearn.preprocessing import LabelEncoder\n",
    "from sklearn.model_selection import train_test_split\n",
    "\n",
    "def criar_janelas(df, janela=10):\n",
    "    X, y = [], []\n",
    "    for i in range(len(df) - janela):\n",
    "        X.append(df[['q0','q1','q2','q3']].iloc[i:i+janela].values)\n",
    "        y.append(df['status'].iloc[i+janela])\n",
    "    return np.array(X), np.array(y)\n",
    "\n",
    "X, y = criar_janelas(df)\n",
    "le = LabelEncoder()\n",
    "y_encoded = le.fit_transform(y)\n",
    "\n",
    "X_train, X_test, y_train, y_test = train_test_split(X, y_encoded, test_size=0.2, shuffle=True)\n"
   ]
  },
  {
   "cell_type": "code",
   "execution_count": null,
   "id": "13da5f16",
   "metadata": {},
   "outputs": [],
   "source": [
    "from tensorflow.keras.models import Sequential\n",
    "from tensorflow.keras.layers import LSTM, Dense\n",
    "\n",
    "model = Sequential([\n",
    "    LSTM(64, input_shape=(X_train.shape[1], X_train.shape[2])),\n",
    "    Dense(32, activation='relu'),\n",
    "    Dense(3, activation='softmax')\n",
    "])\n",
    "\n",
    "model.compile(optimizer='adam', loss='sparse_categorical_crossentropy', metrics=['accuracy'])\n",
    "model.fit(X_train, y_train, epochs=15, validation_data=(X_test, y_test))\n"
   ]
  },
  {
   "cell_type": "code",
   "execution_count": null,
   "id": "35a2704a",
   "metadata": {},
   "outputs": [],
   "source": [
    "entrada = df[['q0','q1','q2','q3']].iloc[-10:].values.reshape(1, 10, 4)\n",
    "status_predito = le.inverse_transform([np.argmax(model.predict(entrada))])[0]\n",
    "print(\"STATUS PREVISTO:\", status_predito)\n"
   ]
  }
 ],
 "metadata": {
  "kernelspec": {
   "display_name": "Python 3",
   "language": "python",
   "name": "python3"
  },
  "language_info": {
   "codemirror_mode": {
    "name": "ipython",
    "version": 3
   },
   "file_extension": ".py",
   "mimetype": "text/x-python",
   "name": "python",
   "nbconvert_exporter": "python",
   "pygments_lexer": "ipython3",
   "version": "3.13.3"
  }
 },
 "nbformat": 4,
 "nbformat_minor": 5
}
