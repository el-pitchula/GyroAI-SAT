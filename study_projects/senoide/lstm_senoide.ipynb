{
 "cells": [
  {
   "cell_type": "markdown",
   "id": "1429287b",
   "metadata": {},
   "source": [
    "# Previsão de uma Senoide com LSTM\n",
    "\n",
    "Neste notebook, vamos aprender como usar uma Rede Neural Recorrente do tipo LSTM para **prever os próximos valores** de uma função seno. Esse projeto é simples, mas é uma ótima introdução ao uso de redes neurais com **dados temporais**, como sensores, séries temporais e até sinais de satélite!\n",
    "\n",
    "---\n",
    "\n",
    "## O que é uma RNN?\n",
    "\n",
    "Uma RNN (Rede Neural Recorrente) é uma rede que tem \"memória\" e processa dados **sequencialmente**, como se tivesse uma linha do tempo. Isso é ideal para séries temporais!\n",
    "\n",
    "---\n",
    "\n",
    "## O que é uma LSTM?\n",
    "\n",
    "A LSTM (Long Short-Term Memory) é um tipo especial de RNN que consegue \"lembrar\" informações por mais tempo, usando **portas** que controlam o fluxo de memória.\n",
    "\n",
    "Ela é composta por:\n",
    "- Porta de esquecimento\n",
    "- Porta de entrada\n",
    "- Porta de saída\n",
    "\n",
    "---\n",
    "\n",
    "### O que vamos fazer?\n",
    "\n",
    "- Gerar uma senoide simples.\n",
    "- Treinar uma LSTM para prever o próximo ponto da senoide.\n",
    "- Visualizar o resultado.\n"
   ]
  },
  {
   "cell_type": "code",
   "execution_count": null,
   "id": "e71bbcde",
   "metadata": {},
   "outputs": [
    {
     "ename": "",
     "evalue": "",
     "output_type": "error",
     "traceback": [
      "\u001b[1;31mRunning cells with '.venv (Python 3.13.3)' requires the ipykernel package.\n",
      "\u001b[1;31mInstall 'ipykernel' into the Python environment. \n",
      "\u001b[1;31mCommand: 'c:/Users/jaysa.gabrielly/Documents/GitHub/GyroAI-SAT/.venv/Scripts/python.exe -m pip install ipykernel -U --force-reinstall'"
     ]
    }
   ],
   "source": [
    "import numpy as np\n",
    "import matplotlib.pyplot as plt\n",
    "from tensorflow.keras.models import Sequential\n",
    "from tensorflow.keras.layers import LSTM, Dense"
   ]
  }
 ],
 "metadata": {
  "kernelspec": {
   "display_name": ".venv",
   "language": "python",
   "name": "python3"
  },
  "language_info": {
   "name": "python",
   "version": "3.13.3"
  }
 },
 "nbformat": 4,
 "nbformat_minor": 5
}
